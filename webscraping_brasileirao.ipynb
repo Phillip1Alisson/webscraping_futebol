{
 "cells": [
  {
   "cell_type": "markdown",
   "id": "bc44a613-cb19-4f55-81ff-7600918e47fe",
   "metadata": {},
   "source": [
    "**SOBRE O CÓDIGO**\n",
    "\n",
    "O código tem como objetivo realizar a capitura dos dados da década passada (2010 - 2019) da tabela do campeonato brasileiro.\n",
    "\n",
    "Vamos realizar a tecnica de **_web scraping_**, vamos acessar o site do **_Google_** e vamos acessar as tabelas e criar **_dataframes_**."
   ]
  },
  {
   "cell_type": "code",
   "execution_count": 2,
   "id": "c5065703-3cdf-48ae-8d4c-db190616ba0e",
   "metadata": {},
   "outputs": [],
   "source": [
    "import requests\n",
    "import pandas as pd\n",
    "from bs4 import BeautifulSoup\n",
    "from selenium import webdriver\n",
    "from selenium.webdriver.firefox.options import Options\n",
    "import json"
   ]
  },
  {
   "cell_type": "code",
   "execution_count": 3,
   "id": "dab29502-39d1-4229-ad92-2110adc9408b",
   "metadata": {},
   "outputs": [],
   "source": [
    "import warnings\n",
    "\n",
    "warnings.filterwarnings('ignore')"
   ]
  },
  {
   "cell_type": "code",
   "execution_count": 4,
   "id": "06bce1cb-5293-4af3-9ed2-0e364739181f",
   "metadata": {},
   "outputs": [],
   "source": [
    "def buscarSite(ano):\n",
    "    url = f'https://pt.wikipedia.org/wiki/Campeonato_Brasileiro_de_Futebol_de_{ano}_-_S%C3%A9rie_A'\n",
    "    print(url)\n",
    "    driver.get(url)\n",
    "    driver.implicitly_wait(10)  # in seconds\n",
    "    return driver"
   ]
  },
  {
   "cell_type": "code",
   "execution_count": 5,
   "id": "62ec3c8c-cebe-4d76-8610-e48c546a4034",
   "metadata": {},
   "outputs": [],
   "source": [
    "def capturarTabela():\n",
    "    element = driver.find_element_by_xpath(\"//*[text()='Pos.']//parent::*//parent::*//parent::*/parent::*\");\n",
    "    html_content = element.get_attribute('outerHTML')\n",
    "    # Parse HTML (Parsear o conteúdo HTML) - BeaultifulSoup\n",
    "    soup = BeautifulSoup(html_content, 'html.parser')\n",
    "    table = soup.find(name='table')\n",
    "\n",
    "    # Data Structure Conversion (Estruturar conteúdo em um Data Frame) - Pandas\n",
    "    df_full = pd.read_html(str(table))[0]\n",
    "    df_full['ano'] = ano\n",
    "    return df_full.to_dict('records')"
   ]
  },
  {
   "cell_type": "code",
   "execution_count": 6,
   "id": "5b898ceb-d012-4c72-97ab-584b09def421",
   "metadata": {},
   "outputs": [
    {
     "name": "stdout",
     "output_type": "stream",
     "text": [
      "https://pt.wikipedia.org/wiki/Campeonato_Brasileiro_de_Futebol_de_2003_-_S%C3%A9rie_A\n",
      "https://pt.wikipedia.org/wiki/Campeonato_Brasileiro_de_Futebol_de_2004_-_S%C3%A9rie_A\n",
      "https://pt.wikipedia.org/wiki/Campeonato_Brasileiro_de_Futebol_de_2005_-_S%C3%A9rie_A\n",
      "https://pt.wikipedia.org/wiki/Campeonato_Brasileiro_de_Futebol_de_2006_-_S%C3%A9rie_A\n",
      "https://pt.wikipedia.org/wiki/Campeonato_Brasileiro_de_Futebol_de_2007_-_S%C3%A9rie_A\n",
      "https://pt.wikipedia.org/wiki/Campeonato_Brasileiro_de_Futebol_de_2008_-_S%C3%A9rie_A\n",
      "https://pt.wikipedia.org/wiki/Campeonato_Brasileiro_de_Futebol_de_2009_-_S%C3%A9rie_A\n",
      "https://pt.wikipedia.org/wiki/Campeonato_Brasileiro_de_Futebol_de_2010_-_S%C3%A9rie_A\n",
      "https://pt.wikipedia.org/wiki/Campeonato_Brasileiro_de_Futebol_de_2011_-_S%C3%A9rie_A\n",
      "https://pt.wikipedia.org/wiki/Campeonato_Brasileiro_de_Futebol_de_2012_-_S%C3%A9rie_A\n",
      "https://pt.wikipedia.org/wiki/Campeonato_Brasileiro_de_Futebol_de_2013_-_S%C3%A9rie_A\n",
      "https://pt.wikipedia.org/wiki/Campeonato_Brasileiro_de_Futebol_de_2014_-_S%C3%A9rie_A\n",
      "https://pt.wikipedia.org/wiki/Campeonato_Brasileiro_de_Futebol_de_2015_-_S%C3%A9rie_A\n",
      "https://pt.wikipedia.org/wiki/Campeonato_Brasileiro_de_Futebol_de_2016_-_S%C3%A9rie_A\n",
      "https://pt.wikipedia.org/wiki/Campeonato_Brasileiro_de_Futebol_de_2017_-_S%C3%A9rie_A\n",
      "https://pt.wikipedia.org/wiki/Campeonato_Brasileiro_de_Futebol_de_2018_-_S%C3%A9rie_A\n",
      "https://pt.wikipedia.org/wiki/Campeonato_Brasileiro_de_Futebol_de_2019_-_S%C3%A9rie_A\n",
      "https://pt.wikipedia.org/wiki/Campeonato_Brasileiro_de_Futebol_de_2020_-_S%C3%A9rie_A\n",
      "https://pt.wikipedia.org/wiki/Campeonato_Brasileiro_de_Futebol_de_2021_-_S%C3%A9rie_A\n"
     ]
    }
   ],
   "source": [
    "option = Options()\n",
    "option.headless = True\n",
    "driver = webdriver.Firefox(options=option)\n",
    "tabelasAnuais = []\n",
    "for ano in range(2003,2022):\n",
    "    buscarSite(ano)\n",
    "    tabelasAnuais = tabelasAnuais + capturarTabela()\n",
    "\n",
    "driver.quit()"
   ]
  },
  {
   "cell_type": "code",
   "execution_count": 7,
   "id": "60fc2c91-62be-4bc4-b87e-698cf1f65789",
   "metadata": {},
   "outputs": [],
   "source": [
    "tabelasAnuais = pd.DataFrame(tabelasAnuais)\n",
    "tabelasAnuais = tabelasAnuais.fillna('null')\n",
    "with open('tabelasBrasileirao2003_2021.json', 'w', encoding='utf-8') as jp:\n",
    "    js = json.dumps(tabelasAnuais.to_dict('records'), indent=4)\n",
    "    jp.write(js)"
   ]
  }
 ],
 "metadata": {
  "kernelspec": {
   "display_name": "Python 3 (ipykernel)",
   "language": "python",
   "name": "python3"
  },
  "language_info": {
   "codemirror_mode": {
    "name": "ipython",
    "version": 3
   },
   "file_extension": ".py",
   "mimetype": "text/x-python",
   "name": "python",
   "nbconvert_exporter": "python",
   "pygments_lexer": "ipython3",
   "version": "3.10.2"
  }
 },
 "nbformat": 4,
 "nbformat_minor": 5
}
